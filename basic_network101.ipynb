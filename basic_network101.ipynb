{
 "cells": [
  {
   "cell_type": "code",
   "execution_count": 1,
   "id": "7fed1543",
   "metadata": {},
   "outputs": [],
   "source": [
    "import numpy as np"
   ]
  },
  {
   "cell_type": "code",
   "execution_count": 2,
   "id": "ba7cfb2f",
   "metadata": {},
   "outputs": [],
   "source": [
    "input_vector= [1.72, 1.23]"
   ]
  },
  {
   "cell_type": "code",
   "execution_count": 3,
   "id": "3e0e5d6b",
   "metadata": {},
   "outputs": [],
   "source": [
    "weights_1 = [1.26, 0]\n",
    "weights_2= [2.17, 0.32]"
   ]
  },
  {
   "cell_type": "code",
   "execution_count": 4,
   "id": "018c7317",
   "metadata": {},
   "outputs": [
    {
     "name": "stdout",
     "output_type": "stream",
     "text": [
      "The dot product is: 2.1672\n"
     ]
    }
   ],
   "source": [
    "#computing the dot of input_vector and weighs_1\n",
    "first_indexes_mult= input_vector[0] * weights_1[0]\n",
    "second_indexes_mult= input_vector[1] * weights_1[1]\n",
    "dot_product_1= first_indexes_mult + second_indexes_mult\n",
    "print(f\"The dot product is: {dot_product_1}\")"
   ]
  },
  {
   "cell_type": "code",
   "execution_count": 5,
   "id": "f2583bc8",
   "metadata": {},
   "outputs": [
    {
     "name": "stdout",
     "output_type": "stream",
     "text": [
      "2.1672\n",
      "4.1259999999999994\n"
     ]
    }
   ],
   "source": [
    "dot_product_1 = np.dot(input_vector, weights_1)\n",
    "print(dot_product_1)\n",
    "dot_product_2= np.dot(input_vector, weights_2)\n",
    "print(dot_product_2)"
   ]
  },
  {
   "cell_type": "code",
   "execution_count": 6,
   "id": "50a1820e",
   "metadata": {},
   "outputs": [],
   "source": [
    "#wrapping the vectors in numpy arrays\n",
    "input_vector= np.array([1.66, 1.56])\n",
    "weights_1= np.array([1.45, -0.66])\n",
    "bias= np.array([0.0])"
   ]
  },
  {
   "cell_type": "code",
   "execution_count": 7,
   "id": "9e15d370",
   "metadata": {},
   "outputs": [],
   "source": [
    "def sigmoid(x):\n",
    "    return 1/(1+np.exp(-x))"
   ]
  },
  {
   "cell_type": "code",
   "execution_count": 8,
   "id": "3d898f55",
   "metadata": {},
   "outputs": [],
   "source": [
    "def make_prediction(input_vector, weights, bias):\n",
    "    layer_1= np.dot(input_vector, weights)+ bias\n",
    "    layer_2= sigmoid(layer_1)\n",
    "    return layer_2"
   ]
  },
  {
   "cell_type": "code",
   "execution_count": 10,
   "id": "05ceb36f",
   "metadata": {},
   "outputs": [],
   "source": [
    "prediction = make_prediction(input_vector, weights_1, bias)"
   ]
  },
  {
   "cell_type": "code",
   "execution_count": 11,
   "id": "4fe43526",
   "metadata": {},
   "outputs": [
    {
     "name": "stdout",
     "output_type": "stream",
     "text": [
      "prediction is: [0.7985731]\n"
     ]
    }
   ],
   "source": [
    "print(f\"prediction is: {prediction}\")"
   ]
  },
  {
   "cell_type": "code",
   "execution_count": 18,
   "id": "ad3739a7",
   "metadata": {},
   "outputs": [],
   "source": [
    "input_vector= np.array([2, 1.5])\n",
    "prediction= make_prediction(input_vector, weights_1, bias)"
   ]
  },
  {
   "cell_type": "code",
   "execution_count": 19,
   "id": "22cd9f16",
   "metadata": {},
   "outputs": [
    {
     "name": "stdout",
     "output_type": "stream",
     "text": [
      "[0.87101915]\n"
     ]
    }
   ],
   "source": [
    "print(prediction)"
   ]
  },
  {
   "cell_type": "code",
   "execution_count": 20,
   "id": "e97ebc49",
   "metadata": {},
   "outputs": [],
   "source": [
    "target = 0\n",
    "mse= np.square(prediction - target)"
   ]
  },
  {
   "cell_type": "code",
   "execution_count": 21,
   "id": "0689c9bd",
   "metadata": {},
   "outputs": [
    {
     "name": "stdout",
     "output_type": "stream",
     "text": [
      "prediction:[0.87101915]; error: [0.75867436]\n",
      "the derivative is: [1.7420383]\n"
     ]
    }
   ],
   "source": [
    "print(f'prediction:{prediction}; error: {mse}')\n",
    "derivative= 2*(prediction- target)\n",
    "print(f'the derivative is: {derivative}')"
   ]
  },
  {
   "cell_type": "code",
   "execution_count": 22,
   "id": "280928b9",
   "metadata": {},
   "outputs": [],
   "source": [
    "#updating the weights\n",
    "weights_1= weights_1- derivative\n",
    "prediction= make_prediction(input_vector, weights_1, bias)\n",
    "error= (prediction- target)**2"
   ]
  },
  {
   "cell_type": "code",
   "execution_count": 31,
   "id": "8e4d1af5",
   "metadata": {},
   "outputs": [
    {
     "name": "stdout",
     "output_type": "stream",
     "text": [
      "prediction: [0.01496248]; error [0.00022388]\n"
     ]
    }
   ],
   "source": [
    "print(f'prediction: {prediction}; error {error}')"
   ]
  },
  {
   "cell_type": "code",
   "execution_count": 32,
   "id": "9777fc7e",
   "metadata": {},
   "outputs": [],
   "source": [
    "def sigmoid_deriv(x):sigmoid(x)* (1-sigmoid(x))"
   ]
  },
  {
   "cell_type": "code",
   "execution_count": 33,
   "id": "3ffbe0b0",
   "metadata": {},
   "outputs": [],
   "source": [
    "def sigmoid_deriv(x):\n",
    "    return sigmoid(x)* (1-sigmoid(x))"
   ]
  },
  {
   "cell_type": "code",
   "execution_count": 34,
   "id": "dce5342d",
   "metadata": {},
   "outputs": [],
   "source": [
    "derror_dprediction= 2* (prediction-target)\n",
    "layer_1= np.dot(input_vector, weights_1)+ bias\n",
    "dprediction_dlayer1= sigmoid_deriv(layer_1)\n",
    "dlayer1_dbias= 1"
   ]
  },
  {
   "cell_type": "code",
   "execution_count": 35,
   "id": "4f5e05b6",
   "metadata": {},
   "outputs": [],
   "source": [
    "derror_dbias= (derror_dprediction * dprediction_dlayer1 * dlayer1_dbias)"
   ]
  },
  {
   "cell_type": "code",
   "execution_count": 36,
   "id": "56cad584",
   "metadata": {},
   "outputs": [],
   "source": [
    "class NeuralNetwork:\n",
    "    def __init__(self, learning_rate):\n",
    "        self.weights = np.array([np.random.randn(), np.random.randn()])\n",
    "        self.bias = np.random.randn()\n",
    "        self.learning_rate = learning_rate\n",
    "\n",
    "    def _sigmoid(self, x):\n",
    "        return 1 / (1 + np.exp(-x))\n",
    "\n",
    "    def _sigmoid_deriv(self, x):\n",
    "        return self._sigmoid(x) * (1 - self._sigmoid(x))\n",
    "\n",
    "    def predict(self, input_vector):\n",
    "        layer_1 = np.dot(input_vector, self.weights) + self.bias\n",
    "        layer_2 = self._sigmoid(layer_1)\n",
    "        prediction = layer_2\n",
    "        return prediction\n",
    "\n",
    "    def _compute_gradients(self, input_vector, target):\n",
    "        layer_1 = np.dot(input_vector, self.weights) + self.bias\n",
    "        layer_2 = self._sigmoid(layer_1)\n",
    "        prediction = layer_2\n",
    "\n",
    "        derror_dprediction = 2 * (prediction - target)\n",
    "        dprediction_dlayer1 = self._sigmoid_deriv(layer_1)\n",
    "        dlayer1_dbias = 1\n",
    "        dlayer1_dweights = (0 * self.weights) + (1 * input_vector)\n",
    "\n",
    "        derror_dbias = (\n",
    "            derror_dprediction * dprediction_dlayer1 * dlayer1_dbias\n",
    "        )\n",
    "        derror_dweights = (\n",
    "            derror_dprediction * dprediction_dlayer1 * dlayer1_dweights\n",
    "        )\n",
    "\n",
    "        return derror_dbias, derror_dweights\n",
    "\n",
    "    def _update_parameters(self, derror_dbias, derror_dweights):\n",
    "        self.bias = self.bias - (derror_dbias * self.learning_rate)\n",
    "        self.weights = self.weights - (\n",
    "            derror_dweights * self.learning_rate\n",
    "        )\n",
    "    def train(self, input_vectors, targets, iterations):\n",
    "        cumulative_errors=[]\n",
    "        for currents_iteration in range(iterations):\n",
    "            #pick a data instance at random\n",
    "            random_data_index= np.random.randint(len(input_vectors))\n",
    "            input_vector= input_vectors[random_data_index]\n",
    "            target= targets[random_data_index]\n",
    "            #compute the gradients and update the weights_1\n",
    "            derror_dbias, derror_dweights= self._compute_gradients(\n",
    "                input_vector, targets\n",
    "            )\n",
    "\n",
    "            self._update_parameters(derror_dbiass, derror_dweights)\n",
    "\n",
    "            # measure the cumulative error for all the instances\n",
    "            if current_iteration % 100 == 0:\n",
    "                cumulative_error = 0\n",
    "                #loop through all the instances to measure the error\n",
    "                for data_instance_index in range(len(input_vectors)):\n",
    "                    data_point= input_vectors[data_instance_index]\n",
    "                    target= targets[data_instance_index]\n",
    "\n",
    "                    prediction= self.predict(data_point)\n",
    "                    error= np.square(prediction - target)\n",
    "\n",
    "                    cumulative_error= cumulative_error + error\n",
    "\n",
    "                cumulative_errors.append(cumulative_error)\n",
    "        return cumulative_errors"
   ]
  },
  {
   "cell_type": "code",
   "execution_count": 46,
   "id": "b2e1e659",
   "metadata": {},
   "outputs": [],
   "source": [
    "learning_rate= 0.1\n",
    "neural_network= NeuralNetwork(learning_rate)"
   ]
  },
  {
   "cell_type": "code",
   "execution_count": 47,
   "id": "34f006c1",
   "metadata": {},
   "outputs": [
    {
     "data": {
      "text/plain": [
       "0.7189852483355605"
      ]
     },
     "execution_count": 47,
     "metadata": {},
     "output_type": "execute_result"
    }
   ],
   "source": [
    "neural_network.predict(input_vector)"
   ]
  },
  {
   "cell_type": "code",
   "execution_count": 48,
   "id": "194f5d85",
   "metadata": {},
   "outputs": [
    {
     "name": "stdout",
     "output_type": "stream",
     "text": [
      "0.7189852483355605\n"
     ]
    }
   ],
   "source": [
    "print(neural_network.predict(input_vector))"
   ]
  },
  {
   "cell_type": "code",
   "execution_count": null,
   "id": "c44498c6",
   "metadata": {},
   "outputs": [],
   "source": []
  }
 ],
 "metadata": {
  "kernelspec": {
   "display_name": "Python 3 (ipykernel)",
   "language": "python",
   "name": "python3"
  },
  "language_info": {
   "codemirror_mode": {
    "name": "ipython",
    "version": 3
   },
   "file_extension": ".py",
   "mimetype": "text/x-python",
   "name": "python",
   "nbconvert_exporter": "python",
   "pygments_lexer": "ipython3",
   "version": "3.9.7"
  }
 },
 "nbformat": 4,
 "nbformat_minor": 5
}
